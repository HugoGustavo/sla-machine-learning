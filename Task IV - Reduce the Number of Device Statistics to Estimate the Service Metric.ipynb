{
 "cells": [
  {
   "cell_type": "markdown",
   "metadata": {},
   "source": [
    "# Task IV - Reduce the Number of Device Statistics to Estimate the Service Metric"
   ]
  },
  {
   "cell_type": "markdown",
   "metadata": {},
   "source": [
    "The objective for this task is to reduce the number of device statistics X needed for accurately estimating Y . Since set of size n has 2^n subsets, ﬁnding a minimal of X that allows to predict Y with the smallest error for a speciﬁc learning method is generally not feasible. You will use two heuristic methods two achieve this task."
   ]
  },
  {
   "cell_type": "markdown",
   "metadata": {},
   "source": [
    "### 1. Construct a training set and a test set from the trace as above.\n"
   ]
  },
  {
   "cell_type": "code",
   "execution_count": 45,
   "metadata": {},
   "outputs": [],
   "source": [
    "import pandas\n",
    "import numpy\n",
    "import matplotlib\n",
    "import pylab\n",
    "import sklearn.model_selection\n",
    "import sklearn.linear_model\n",
    "import random\n",
    "import itertools"
   ]
  },
  {
   "cell_type": "code",
   "execution_count": 6,
   "metadata": {},
   "outputs": [],
   "source": [
    "# import dataset_x and dataset_y\n",
    "data_set_x = pandas.read_csv('X.csv')\n",
    "data_set_y = pandas.read_csv('Y.csv')\n",
    "\n",
    "# join operations similar to relational databases on field 'TimeStamp'\n",
    "data_set = pandas.merge(data_set_x, data_set_y, on='TimeStamp')\n",
    "del(data_set['TimeStamp'])"
   ]
  },
  {
   "cell_type": "code",
   "execution_count": 53,
   "metadata": {},
   "outputs": [
    {
     "data": {
      "text/html": [
       "<div>\n",
       "<style scoped>\n",
       "    .dataframe tbody tr th:only-of-type {\n",
       "        vertical-align: middle;\n",
       "    }\n",
       "\n",
       "    .dataframe tbody tr th {\n",
       "        vertical-align: top;\n",
       "    }\n",
       "\n",
       "    .dataframe thead th {\n",
       "        text-align: right;\n",
       "    }\n",
       "</style>\n",
       "<table border=\"1\" class=\"dataframe\">\n",
       "  <thead>\n",
       "    <tr style=\"text-align: right;\">\n",
       "      <th></th>\n",
       "      <th>all_..idle</th>\n",
       "      <th>X..memused</th>\n",
       "      <th>proc.s</th>\n",
       "      <th>cswch.s</th>\n",
       "      <th>file.nr</th>\n",
       "      <th>sum_intr.s</th>\n",
       "      <th>ldavg.1</th>\n",
       "      <th>tcpsck</th>\n",
       "      <th>pgfree.s</th>\n",
       "      <th>DispFrames</th>\n",
       "    </tr>\n",
       "  </thead>\n",
       "  <tbody>\n",
       "    <tr>\n",
       "      <th>0</th>\n",
       "      <td>0.0</td>\n",
       "      <td>73.03</td>\n",
       "      <td>47.0</td>\n",
       "      <td>62683.0</td>\n",
       "      <td>2496</td>\n",
       "      <td>15802.0</td>\n",
       "      <td>64.17</td>\n",
       "      <td>50</td>\n",
       "      <td>81151.0</td>\n",
       "      <td>17.269999</td>\n",
       "    </tr>\n",
       "    <tr>\n",
       "      <th>1</th>\n",
       "      <td>0.0</td>\n",
       "      <td>73.04</td>\n",
       "      <td>3.0</td>\n",
       "      <td>67595.0</td>\n",
       "      <td>2496</td>\n",
       "      <td>16139.0</td>\n",
       "      <td>64.17</td>\n",
       "      <td>50</td>\n",
       "      <td>78868.0</td>\n",
       "      <td>22.440000</td>\n",
       "    </tr>\n",
       "    <tr>\n",
       "      <th>2</th>\n",
       "      <td>0.0</td>\n",
       "      <td>73.05</td>\n",
       "      <td>0.0</td>\n",
       "      <td>69495.0</td>\n",
       "      <td>2496</td>\n",
       "      <td>15753.0</td>\n",
       "      <td>66.15</td>\n",
       "      <td>49</td>\n",
       "      <td>79990.0</td>\n",
       "      <td>24.000000</td>\n",
       "    </tr>\n",
       "    <tr>\n",
       "      <th>3</th>\n",
       "      <td>0.0</td>\n",
       "      <td>73.06</td>\n",
       "      <td>0.0</td>\n",
       "      <td>67977.0</td>\n",
       "      <td>2496</td>\n",
       "      <td>15849.0</td>\n",
       "      <td>66.15</td>\n",
       "      <td>48</td>\n",
       "      <td>78462.0</td>\n",
       "      <td>20.950001</td>\n",
       "    </tr>\n",
       "    <tr>\n",
       "      <th>4</th>\n",
       "      <td>0.0</td>\n",
       "      <td>73.06</td>\n",
       "      <td>0.0</td>\n",
       "      <td>69409.0</td>\n",
       "      <td>2496</td>\n",
       "      <td>15789.0</td>\n",
       "      <td>66.15</td>\n",
       "      <td>44</td>\n",
       "      <td>79337.0</td>\n",
       "      <td>15.340001</td>\n",
       "    </tr>\n",
       "    <tr>\n",
       "      <th>...</th>\n",
       "      <td>...</td>\n",
       "      <td>...</td>\n",
       "      <td>...</td>\n",
       "      <td>...</td>\n",
       "      <td>...</td>\n",
       "      <td>...</td>\n",
       "      <td>...</td>\n",
       "      <td>...</td>\n",
       "      <td>...</td>\n",
       "      <td>...</td>\n",
       "    </tr>\n",
       "    <tr>\n",
       "      <th>3595</th>\n",
       "      <td>0.0</td>\n",
       "      <td>97.78</td>\n",
       "      <td>4.0</td>\n",
       "      <td>64230.0</td>\n",
       "      <td>2592</td>\n",
       "      <td>15258.0</td>\n",
       "      <td>67.83</td>\n",
       "      <td>49</td>\n",
       "      <td>48231.0</td>\n",
       "      <td>19.489999</td>\n",
       "    </tr>\n",
       "    <tr>\n",
       "      <th>3596</th>\n",
       "      <td>0.0</td>\n",
       "      <td>97.81</td>\n",
       "      <td>6.0</td>\n",
       "      <td>60987.0</td>\n",
       "      <td>2592</td>\n",
       "      <td>15156.0</td>\n",
       "      <td>67.83</td>\n",
       "      <td>49</td>\n",
       "      <td>48277.0</td>\n",
       "      <td>16.900001</td>\n",
       "    </tr>\n",
       "    <tr>\n",
       "      <th>3597</th>\n",
       "      <td>0.0</td>\n",
       "      <td>97.81</td>\n",
       "      <td>10.0</td>\n",
       "      <td>62058.0</td>\n",
       "      <td>2592</td>\n",
       "      <td>15001.0</td>\n",
       "      <td>67.83</td>\n",
       "      <td>49</td>\n",
       "      <td>47901.0</td>\n",
       "      <td>13.610000</td>\n",
       "    </tr>\n",
       "    <tr>\n",
       "      <th>3598</th>\n",
       "      <td>0.0</td>\n",
       "      <td>97.83</td>\n",
       "      <td>0.0</td>\n",
       "      <td>61215.0</td>\n",
       "      <td>2592</td>\n",
       "      <td>15097.0</td>\n",
       "      <td>67.83</td>\n",
       "      <td>49</td>\n",
       "      <td>44637.0</td>\n",
       "      <td>13.390000</td>\n",
       "    </tr>\n",
       "    <tr>\n",
       "      <th>3599</th>\n",
       "      <td>0.0</td>\n",
       "      <td>97.84</td>\n",
       "      <td>0.0</td>\n",
       "      <td>62823.0</td>\n",
       "      <td>2592</td>\n",
       "      <td>15512.0</td>\n",
       "      <td>67.83</td>\n",
       "      <td>50</td>\n",
       "      <td>42207.0</td>\n",
       "      <td>14.220000</td>\n",
       "    </tr>\n",
       "  </tbody>\n",
       "</table>\n",
       "<p>3600 rows × 10 columns</p>\n",
       "</div>"
      ],
      "text/plain": [
       "      all_..idle  X..memused  proc.s  cswch.s  file.nr  sum_intr.s  ldavg.1  \\\n",
       "0            0.0       73.03    47.0  62683.0     2496     15802.0    64.17   \n",
       "1            0.0       73.04     3.0  67595.0     2496     16139.0    64.17   \n",
       "2            0.0       73.05     0.0  69495.0     2496     15753.0    66.15   \n",
       "3            0.0       73.06     0.0  67977.0     2496     15849.0    66.15   \n",
       "4            0.0       73.06     0.0  69409.0     2496     15789.0    66.15   \n",
       "...          ...         ...     ...      ...      ...         ...      ...   \n",
       "3595         0.0       97.78     4.0  64230.0     2592     15258.0    67.83   \n",
       "3596         0.0       97.81     6.0  60987.0     2592     15156.0    67.83   \n",
       "3597         0.0       97.81    10.0  62058.0     2592     15001.0    67.83   \n",
       "3598         0.0       97.83     0.0  61215.0     2592     15097.0    67.83   \n",
       "3599         0.0       97.84     0.0  62823.0     2592     15512.0    67.83   \n",
       "\n",
       "      tcpsck  pgfree.s  DispFrames  \n",
       "0         50   81151.0   17.269999  \n",
       "1         50   78868.0   22.440000  \n",
       "2         49   79990.0   24.000000  \n",
       "3         48   78462.0   20.950001  \n",
       "4         44   79337.0   15.340001  \n",
       "...      ...       ...         ...  \n",
       "3595      49   48231.0   19.489999  \n",
       "3596      49   48277.0   16.900001  \n",
       "3597      49   47901.0   13.610000  \n",
       "3598      49   44637.0   13.390000  \n",
       "3599      50   42207.0   14.220000  \n",
       "\n",
       "[3600 rows x 10 columns]"
      ]
     },
     "execution_count": 53,
     "metadata": {},
     "output_type": "execute_result"
    }
   ],
   "source": [
    "data_set"
   ]
  },
  {
   "cell_type": "code",
   "execution_count": 58,
   "metadata": {},
   "outputs": [],
   "source": [
    "(data_set_train, data_set_test) = sklearn.model_selection.train_test_split(data_set, test_size=0.3)"
   ]
  },
  {
   "cell_type": "markdown",
   "metadata": {},
   "source": [
    "### 2. Method 1: Build all subsets of the feature set X that contain either one or two features (i.e., device statistics). Compute the models for each of these sets for linear regression over the training set. Plot a histogram of the error values (NMAE) of all the models for the test set. Identify the feature set that produces the model with the smallest error and give the device statistic(s) in this set."
   ]
  },
  {
   "cell_type": "code",
   "execution_count": 102,
   "metadata": {},
   "outputs": [],
   "source": [
    "error_by_one_feature = {}\n",
    "\n",
    "features = data_set_train.columns\n",
    "features = features[:-1] # remove DispFrames\n",
    "combinations_features = list(itertools.combinations(features, 1))\n",
    "for combination_feature in combinations_features:\n",
    "    feature = [combination_feature[0], 'DispFrames']\n",
    "    \n",
    "    train = pandas.DataFrame(data_set_train, columns=feature)\n",
    "    x = train.iloc[:, :-1] # all lines, all columns except the last\n",
    "    y = train.iloc[:, -1] # all lines and only last column\n",
    "    linear_regressor = sklearn.linear_model.LinearRegression()\n",
    "    linear_regressor.fit(x, y)\n",
    "    \n",
    "    test = pandas.DataFrame(data_set_test, columns=feature)\n",
    "    x = test.iloc[:, :-1] # all lines, all columns except the last\n",
    "    y = test.iloc[:, -1] # all lines and only last column\n",
    "    y_estimation = linear_regressor.predict(x)\n",
    "    mean_absolute_error = sklearn.metrics.mean_absolute_error(y, y_estimation)\n",
    "    average_observations = test.iloc[:, -1].mean(axis=0)\n",
    "    normalized_mean_absolute_error = mean_absolute_error * ( 1 / average_observations )\n",
    "    \n",
    "    error_by_one_feature[(combination_feature[0])] = normalized_mean_absolute_error"
   ]
  },
  {
   "cell_type": "code",
   "execution_count": 103,
   "metadata": {},
   "outputs": [],
   "source": [
    "error_by_two_feature = {}\n",
    "\n",
    "features = data_set_train.columns\n",
    "features = features[:-1] # remove DispFrames\n",
    "combinations_features = list(itertools.combinations(features, 2))\n",
    "for combination_feature in combinations_features:\n",
    "    feature = [combination_feature[0], combination_feature[1], 'DispFrames']\n",
    "    \n",
    "    train = pandas.DataFrame(data_set_train, columns=feature)\n",
    "    x = train.iloc[:, :-1] # all lines, all columns except the last\n",
    "    y = train.iloc[:, -1] # all lines and only last column\n",
    "    linear_regressor = sklearn.linear_model.LinearRegression()\n",
    "    linear_regressor.fit(x, y)\n",
    "    \n",
    "    test = pandas.DataFrame(data_set_test, columns=feature)\n",
    "    x = test.iloc[:, :-1] # all lines, all columns except the last\n",
    "    y = test.iloc[:, -1] # all lines and only last column\n",
    "    y_estimation = linear_regressor.predict(x)\n",
    "    mean_absolute_error = sklearn.metrics.mean_absolute_error(y, y_estimation)\n",
    "    average_observations = test.iloc[:, -1].mean(axis=0)\n",
    "    normalized_mean_absolute_error = mean_absolute_error * ( 1 / average_observations )\n",
    "    \n",
    "    error_by_two_feature[(combination_feature[0], combination_feature[1])] = normalized_mean_absolute_error"
   ]
  },
  {
   "cell_type": "code",
   "execution_count": 107,
   "metadata": {},
   "outputs": [
    {
     "data": {
      "image/png": "[encoded data removed]",
      "text/plain": [
       "<Figure size 1440x576 with 1 Axes>"
      ]
     },
     "metadata": {
      "needs_background": "light"
     },
     "output_type": "display_data"
    }
   ],
   "source": [
    "error_by_one_feature_values = pandas.DataFrame(error_by_one_feature.values())\n",
    "error_by_one_feature_values.hist(figsize=(20, 8))\n",
    "pylab.suptitle('Histogram One Feature')\n",
    "matplotlib.pyplot.show()"
   ]
  },
  {
   "cell_type": "code",
   "execution_count": 108,
   "metadata": {},
   "outputs": [
    {
     "data": {
      "image/png": "[encoded data removed]",
      "text/plain": [
       "<Figure size 1440x576 with 1 Axes>"
      ]
     },
     "metadata": {
      "needs_background": "light"
     },
     "output_type": "display_data"
    }
   ],
   "source": [
    "error_by_two_feature_values = pandas.DataFrame(error_by_two_feature.values())\n",
    "error_by_two_feature_values.hist(figsize=(20, 8))\n",
    "pylab.suptitle('Histogram Two Feature')\n",
    "matplotlib.pyplot.show()"
   ]
  },
  {
   "cell_type": "code",
   "execution_count": 113,
   "metadata": {},
   "outputs": [
    {
     "name": "stdout",
     "output_type": "stream",
     "text": [
      "The subset of features containing only one element, whose error is the smallest possible is ldavg.1 with 0.10937017062449363\n",
      "The subset of features containing only two elements, whose error is the smallest possible is ('file.nr', 'ldavg.1') with 0.10579850667365479\n"
     ]
    }
   ],
   "source": [
    "one_feature_with_smallest_error = min(error_by_one_feature.items(), key=lambda x: x[1])\n",
    "two_feature_with_smallest_error = min(error_by_two_feature.items(), key=lambda x: x[1])\n",
    "\n",
    "print('The subset of features containing only one element, whose error is the smallest possible is', one_feature_with_smallest_error[0], 'with', one_feature_with_smallest_error[1])\n",
    "print('The subset of features containing only two elements, whose error is the smallest possible is', two_feature_with_smallest_error[0], 'with', two_feature_with_smallest_error[1])\n"
   ]
  },
  {
   "cell_type": "markdown",
   "metadata": {},
   "source": [
    "### 3. Method 2: Linear univariate feature selection. Take each feature of X and compute the sample correlation of the feature with the corresponding Y value over the training set. For observations xi,yi, the sample correlation is computed as 1 mPm i=1(xi −¯ x)(yi −¯ y)/(σX ∗σY ) whereby ¯ x and ¯ y are sample means and m is the size of the training set; σX is the standard deviationp( 1 mPm i=1(xi − ¯ x)2) and likewise for σY . The correlation values fall into the interval [−1,+1]. Rank the features according to the square of the correlation values; the top feature has the highest value. Build nine feature sets composed of the top k features, k = 1..9. Compute the model for each of these nine sets for linear regression over the training set and compute the error (NMAE) of these models over the test set. Produce a plot that shows the error value in function of the set k.\n"
   ]
  },
  {
   "cell_type": "code",
   "execution_count": 131,
   "metadata": {},
   "outputs": [],
   "source": [
    "correlation_by_feature = {}\n",
    "\n",
    "train = pandas.DataFrame(data_set_train)\n",
    "features = train.columns\n",
    "features = features[:-1] # remove DispFrames\n",
    "for feature in features:\n",
    "    x = train.loc[:, feature]\n",
    "    y = train.iloc[:, -1]\n",
    "    correlation = x.corr(y, method='kendall')\n",
    "    correlation_by_feature[feature] = correlation"
   ]
  },
  {
   "cell_type": "code",
   "execution_count": 150,
   "metadata": {},
   "outputs": [
    {
     "name": "stdout",
     "output_type": "stream",
     "text": [
      "['all_..idle', 'X..memused', 'sum_intr.s', 'pgfree.s', 'proc.s', 'cswch.s', 'file.nr', 'ldavg.1', 'tcpsck']\n"
     ]
    }
   ],
   "source": [
    "rank_features = [ key for (key, value) in sorted(correlation_by_feature.items(), key=lambda item: item[1], reverse=True)]\n",
    "print(rank_features)"
   ]
  },
  {
   "cell_type": "code",
   "execution_count": 155,
   "metadata": {},
   "outputs": [],
   "source": [
    "feature_error = []\n",
    "\n",
    "for feature in rank_features:\n",
    "    feature = [feature, 'DispFrames']\n",
    "    \n",
    "    train = pandas.DataFrame(data_set_train, columns=feature)\n",
    "    x = train.iloc[:, :-1] # all lines, all columns except the last\n",
    "    y = train.iloc[:, -1] # all lines and only last column\n",
    "    linear_regressor = sklearn.linear_model.LinearRegression()\n",
    "    linear_regressor.fit(x, y)\n",
    "    \n",
    "    test = pandas.DataFrame(data_set_test, columns=feature)\n",
    "    x = test.iloc[:, :-1] # all lines, all columns except the last\n",
    "    y = test.iloc[:, -1] # all lines and only last column\n",
    "    y_estimation = linear_regressor.predict(x)\n",
    "    mean_absolute_error = sklearn.metrics.mean_absolute_error(y, y_estimation)\n",
    "    average_observations = test.iloc[:, -1].mean(axis=0)\n",
    "    normalized_mean_absolute_error = mean_absolute_error * ( 1 / average_observations )\n",
    "    \n",
    "    feature_error.append( (feature[0], normalized_mean_absolute_error) )\n",
    "\n",
    "feature_error = pandas.DataFrame(feature_error, columns=['feature', 'error'])"
   ]
  },
  {
   "cell_type": "code",
   "execution_count": 166,
   "metadata": {},
   "outputs": [
    {
     "data": {
      "image/png": "[encoded data removed]",
      "text/plain": [
       "<Figure size 1440x576 with 1 Axes>"
      ]
     },
     "metadata": {
      "needs_background": "light"
     },
     "output_type": "display_data"
    }
   ],
   "source": [
    "figure=matplotlib.pyplot.figure(figsize=(20, 8))\n",
    "ax=figure.add_axes([0,0,1,1])\n",
    "feature = feature_error.loc[ :, 'feature']\n",
    "error = feature_error.loc[:, 'error']\n",
    "scale = [250] * feature.shape[0]\n",
    "ax.scatter(feature, error, color='blue', s=scale, label='Normalized Mean Absolute Error - NMAE')\n",
    "ax.set_xlabel('Feature')\n",
    "ax.set_ylabel('Error')\n",
    "ax.set_title('Error value in function of the feature')\n",
    "ax.legend()\n",
    "matplotlib.pyplot.show()"
   ]
  },
  {
   "cell_type": "markdown",
   "metadata": {},
   "source": [
    "### 4.Describe your observations and conclusions.\n"
   ]
  },
  {
   "cell_type": "code",
   "execution_count": null,
   "metadata": {},
   "outputs": [],
   "source": []
  }
 ],
 "metadata": {
  "kernelspec": {
   "display_name": "Python 3",
   "language": "python",
   "name": "python3"
  },
  "language_info": {
   "codemirror_mode": {
    "name": "ipython",
    "version": 3
   },
   "file_extension": ".py",
   "mimetype": "text/x-python",
   "name": "python",
   "nbconvert_exporter": "python",
   "pygments_lexer": "ipython3",
   "version": "3.8.3"
  }
 },
 "nbformat": 4,
 "nbformat_minor": 4
}
