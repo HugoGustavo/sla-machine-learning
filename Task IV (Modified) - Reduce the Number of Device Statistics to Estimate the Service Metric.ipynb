{
 "cells": [
  {
   "cell_type": "markdown",
   "metadata": {},
   "source": [
    "# Task IV - Reduce the Number of Device Statistics to Estimate the Service Metric"
   ]
  },
  {
   "cell_type": "markdown",
   "metadata": {},
   "source": [
    "The objective for this task is to reduce the number of device statistics X needed for accurately estimating Y . Since set of size n has 2^n subsets, ﬁnding a minimal of X that allows to predict Y with the smallest error for a speciﬁc learning method is generally not feasible. You will use two heuristic methods two achieve this task."
   ]
  },
  {
   "cell_type": "markdown",
   "metadata": {},
   "source": [
    "### 1. Construct a training set and a test set from the trace as above.\n"
   ]
  },
  {
   "cell_type": "code",
   "execution_count": 1,
   "metadata": {},
   "outputs": [],
   "source": [
    "import math\n",
    "import pandas\n",
    "import numpy\n",
    "import matplotlib\n",
    "import pylab\n",
    "import sklearn.model_selection\n",
    "import sklearn.linear_model\n",
    "import random\n",
    "import itertools"
   ]
  },
  {
   "cell_type": "code",
   "execution_count": 2,
   "metadata": {},
   "outputs": [],
   "source": [
    "# import dataset_x and dataset_y\n",
    "data_set_x = pandas.read_csv('X.csv')\n",
    "data_set_y = pandas.read_csv('Y.csv')\n",
    "\n",
    "# join operations similar to relational databases on field 'TimeStamp'\n",
    "data_set = pandas.merge(data_set_x, data_set_y, on='TimeStamp')"
   ]
  },
  {
   "cell_type": "code",
   "execution_count": 3,
   "metadata": {},
   "outputs": [],
   "source": [
    "(data_set_train, data_set_test) = sklearn.model_selection.train_test_split(data_set, test_size=0.3)"
   ]
  },
  {
   "cell_type": "markdown",
   "metadata": {},
   "source": [
    "### 2. Method 1: Build all subsets of the feature set X that contain either one or two features (i.e., device statistics). Compute the models for each of these sets for linear regression over the training set. Plot a histogram of the error values (NMAE) of all the models for the test set. Identify the feature set that produces the model with the smallest error and give the device statistic(s) in this set."
   ]
  },
  {
   "cell_type": "code",
   "execution_count": 4,
   "metadata": {},
   "outputs": [],
   "source": [
    "error_by_one_feature = {}\n",
    "\n",
    "features = data_set_train.columns\n",
    "features = features[1:-1] # remove TimeStamp and DispFrames\n",
    "combinations_features = list(itertools.combinations(features, 1))\n",
    "for combination_feature in combinations_features:\n",
    "    feature = [combination_feature[0], 'DispFrames']\n",
    "    \n",
    "    train = pandas.DataFrame(data_set_train, columns=feature)\n",
    "    x = train.iloc[:, :-1] # all lines, all columns except first and the last\n",
    "    y = train.iloc[:, -1] # all lines and only last column\n",
    "    linear_regressor = sklearn.linear_model.LinearRegression()\n",
    "    linear_regressor.fit(x, y)\n",
    "    \n",
    "    test = pandas.DataFrame(data_set_test, columns=feature)\n",
    "    x = test.iloc[:, :-1] # all lines, all columns except first and the last\n",
    "    y = test.iloc[:, -1] # all lines and only last column\n",
    "    y_estimation = linear_regressor.predict(x)\n",
    "    mean_absolute_error = sklearn.metrics.mean_absolute_error(y, y_estimation)\n",
    "    average_observations = test.iloc[:, -1].mean(axis=0)\n",
    "    normalized_mean_absolute_error = mean_absolute_error * ( 1 / average_observations )\n",
    "    \n",
    "    error_by_one_feature[(combination_feature[0])] = normalized_mean_absolute_error"
   ]
  },
  {
   "cell_type": "code",
   "execution_count": 5,
   "metadata": {},
   "outputs": [],
   "source": [
    "error_by_two_feature = {}\n",
    "\n",
    "features = data_set_train.columns\n",
    "features = features[1:-1] # remove TimeStamp and DispFrames\n",
    "combinations_features = list(itertools.combinations(features, 2))\n",
    "for combination_feature in combinations_features:\n",
    "    feature = [combination_feature[0], combination_feature[1], 'DispFrames']\n",
    "    \n",
    "    train = pandas.DataFrame(data_set_train, columns=feature)\n",
    "    x = train.iloc[:, :-1] # all lines, all columns except the last\n",
    "    y = train.iloc[:, -1] # all lines and only last column\n",
    "    linear_regressor = sklearn.linear_model.LinearRegression()\n",
    "    linear_regressor.fit(x, y)\n",
    "    \n",
    "    test = pandas.DataFrame(data_set_test, columns=feature)\n",
    "    x = test.iloc[:, :-1] # all lines, all columns except the last\n",
    "    y = test.iloc[:, -1] # all lines and only last column\n",
    "    y_estimation = linear_regressor.predict(x)\n",
    "    mean_absolute_error = sklearn.metrics.mean_absolute_error(y, y_estimation)\n",
    "    average_observations = test.iloc[:, -1].mean(axis=0)\n",
    "    normalized_mean_absolute_error = mean_absolute_error * ( 1 / average_observations )\n",
    "    \n",
    "    error_by_two_feature[(combination_feature[0], combination_feature[1])] = normalized_mean_absolute_error"
   ]
  },
  {
   "cell_type": "code",
   "execution_count": 6,
   "metadata": {},
   "outputs": [
    {
     "data": {
      "image/png": "[encoded data removed]",
      "text/plain": [
       "<Figure size 1440x576 with 1 Axes>"
      ]
     },
     "metadata": {
      "needs_background": "light"
     },
     "output_type": "display_data"
    }
   ],
   "source": [
    "error_by_one_feature_values = pandas.DataFrame(error_by_one_feature.values())\n",
    "error_by_one_feature_values.hist(figsize=(20, 8))\n",
    "pylab.suptitle('Histogram One Feature')\n",
    "matplotlib.pyplot.show()"
   ]
  },
  {
   "cell_type": "code",
   "execution_count": 7,
   "metadata": {},
   "outputs": [
    {
     "data": {
      "image/png": "[encoded data removed]",
      "text/plain": [
       "<Figure size 1440x576 with 1 Axes>"
      ]
     },
     "metadata": {
      "needs_background": "light"
     },
     "output_type": "display_data"
    }
   ],
   "source": [
    "error_by_two_feature_values = pandas.DataFrame(error_by_two_feature.values())\n",
    "error_by_two_feature_values.hist(figsize=(20, 8))\n",
    "pylab.suptitle('Histogram Two Feature')\n",
    "matplotlib.pyplot.show()"
   ]
  },
  {
   "cell_type": "code",
   "execution_count": 8,
   "metadata": {},
   "outputs": [
    {
     "name": "stdout",
     "output_type": "stream",
     "text": [
      "The subset of features containing only one element, whose error is the smallest possible is ldavg.1 with 0.11043345539588677\n",
      "The subset of features containing only two elements, whose error is the smallest possible is ('file.nr', 'ldavg.1') with 0.10664732321608981\n"
     ]
    }
   ],
   "source": [
    "one_feature_with_smallest_error = min(error_by_one_feature.items(), key=lambda x: x[1])\n",
    "two_feature_with_smallest_error = min(error_by_two_feature.items(), key=lambda x: x[1])\n",
    "\n",
    "print('The subset of features containing only one element, whose error is the smallest possible is', one_feature_with_smallest_error[0], 'with', one_feature_with_smallest_error[1])\n",
    "print('The subset of features containing only two elements, whose error is the smallest possible is', two_feature_with_smallest_error[0], 'with', two_feature_with_smallest_error[1])\n"
   ]
  },
  {
   "cell_type": "markdown",
   "metadata": {},
   "source": [
    "### 3. Method 2: Linear univariate feature selection. Take each feature of X and compute the sample correlation of the feature with the corresponding Y value over the training set. For observations xi,yi, the sample correlation is computed as 1 mPm i=1(xi −¯ x)(yi −¯ y)/(σX ∗σY ) whereby ¯ x and ¯ y are sample means and m is the size of the training set; σX is the standard deviationp( 1 mPm i=1(xi − ¯ x)2) and likewise for σY . The correlation values fall into the interval [−1,+1]. Rank the features according to the square of the correlation values; the top feature has the highest value. Build nine feature sets composed of the top k features, k = 1..9. Compute the model for each of these nine sets for linear regression over the training set and compute the error (NMAE) of these models over the test set. Produce a plot that shows the error value in function of the set k.\n"
   ]
  },
  {
   "cell_type": "code",
   "execution_count": 9,
   "metadata": {},
   "outputs": [],
   "source": [
    "correlation_by_feature = {}\n",
    "\n",
    "train = pandas.DataFrame(data_set_train)\n",
    "features = train.columns\n",
    "features = features[1:-1] # remove TimeStamp and DispFrames\n",
    "for feature in features:\n",
    "    x = train.loc[:, feature]\n",
    "    y = train.iloc[:, -1]\n",
    "    correlation = x.corr(y, method='kendall')\n",
    "    correlation_by_feature[feature] = correlation"
   ]
  },
  {
   "cell_type": "code",
   "execution_count": 15,
   "metadata": {},
   "outputs": [
    {
     "name": "stdout",
     "output_type": "stream",
     "text": [
      "{'all_..idle': 0.5816732829637223, 'X..memused': 0.418378931573595, 'proc.s': -0.1977994354050668, 'cswch.s': -0.5670596278625601, 'file.nr': -0.5869659562105856, 'sum_intr.s': 0.2311782486364288, 'ldavg.1': -0.5974092567960652, 'tcpsck': -0.6042917143183224, 'pgfree.s': -0.01821333567841519}\n",
      "{'all_..idle': 0.5816732829637223, 'X..memused': 0.418378931573595, 'proc.s': -0.1977994354050668, 'cswch.s': -0.5670596278625601, 'file.nr': -0.5869659562105856, 'sum_intr.s': 0.2311782486364288, 'ldavg.1': -0.5974092567960652, 'tcpsck': -0.6042917143183224, 'pgfree.s': -0.01821333567841519}\n",
      "['tcpsck', 'ldavg.1', 'file.nr', 'all_..idle', 'cswch.s', 'X..memused', 'sum_intr.s', 'proc.s', 'pgfree.s']\n"
     ]
    }
   ],
   "source": [
    "print (correlation_by_feature)\n",
    "rank_features = [ key for (key, value) in sorted(correlation_by_feature.items(), key=lambda item: pow(item[1],2), reverse=True)]\n",
    "print (correlation_by_feature)\n",
    "print (rank_features)"
   ]
  },
  {
   "cell_type": "code",
   "execution_count": 49,
   "metadata": {},
   "outputs": [
    {
     "name": "stdout",
     "output_type": "stream",
     "text": [
      "['tcpsck', 'DispFrames']\n",
      "['tcpsck', 'ldavg.1', 'DispFrames']\n",
      "['tcpsck', 'ldavg.1', 'file.nr', 'DispFrames']\n",
      "['tcpsck', 'ldavg.1', 'file.nr', 'all_..idle', 'DispFrames']\n",
      "['tcpsck', 'ldavg.1', 'file.nr', 'all_..idle', 'cswch.s', 'DispFrames']\n",
      "['tcpsck', 'ldavg.1', 'file.nr', 'all_..idle', 'cswch.s', 'X..memused', 'DispFrames']\n",
      "['tcpsck', 'ldavg.1', 'file.nr', 'all_..idle', 'cswch.s', 'X..memused', 'sum_intr.s', 'DispFrames']\n",
      "['tcpsck', 'ldavg.1', 'file.nr', 'all_..idle', 'cswch.s', 'X..memused', 'sum_intr.s', 'proc.s', 'DispFrames']\n",
      "['tcpsck', 'ldavg.1', 'file.nr', 'all_..idle', 'cswch.s', 'X..memused', 'sum_intr.s', 'proc.s', 'pgfree.s', 'DispFrames']\n",
      "      feature     error\n",
      "0      tcpsck  0.127874\n",
      "1     ldavg.1  0.109131\n",
      "2     file.nr  0.106072\n",
      "3  all_..idle  0.104643\n",
      "4     cswch.s  0.103918\n",
      "5  X..memused  0.102679\n",
      "6  sum_intr.s  0.102724\n",
      "7      proc.s  0.102831\n",
      "8    pgfree.s  0.101954\n"
     ]
    }
   ],
   "source": [
    "feature_error = []\n",
    "feature_set = []\n",
    "\n",
    "for i in range (9):\n",
    "    \n",
    "    feature_set.append (rank_features[i])\n",
    "    feature_columns = feature_set.copy() \n",
    "    feature_columns.append ('DispFrames')\n",
    "    print (feature_columns)\n",
    "    \n",
    "    train = pandas.DataFrame(data_set_train, columns=feature_columns)\n",
    "    x = train.iloc[:, :-1] # all lines, all columns except the last\n",
    "    y = train.iloc[:, -1] # all lines and only last column\n",
    "    linear_regressor = sklearn.linear_model.LinearRegression()\n",
    "    linear_regressor.fit(x, y)\n",
    "    \n",
    "    test = pandas.DataFrame(data_set_test, columns=feature_columns)\n",
    "    x = test.iloc[:, :-1] # all lines, all columns except the last\n",
    "    y = test.iloc[:, -1] # all lines and only last column\n",
    "    y_estimation = linear_regressor.predict(x)\n",
    "    mean_absolute_error = sklearn.metrics.mean_absolute_error(y, y_estimation)\n",
    "    average_observations = test.iloc[:, -1].mean(axis=0)\n",
    "    normalized_mean_absolute_error = mean_absolute_error * ( 1 / average_observations )\n",
    "    \n",
    "    feature_error.append( (rank_features[i], normalized_mean_absolute_error) )\n",
    "\n",
    "feature_error = pandas.DataFrame(feature_error, columns=['feature', 'error'])\n",
    "print (feature_error)"
   ]
  },
  {
   "cell_type": "code",
   "execution_count": 48,
   "metadata": {},
   "outputs": [
    {
     "data": {
      "image/png": "[encoded data removed]",
      "text/plain": [
       "<Figure size 1440x576 with 1 Axes>"
      ]
     },
     "metadata": {
      "needs_background": "light"
     },
     "output_type": "display_data"
    }
   ],
   "source": [
    "figure=matplotlib.pyplot.figure(figsize=(20, 8))\n",
    "ax=figure.add_axes([0,0,1,1])\n",
    "feature = feature_error.loc[ :, 'feature']\n",
    "error = feature_error.loc[:, 'error']\n",
    "scale = [250] * feature.shape[0]\n",
    "ax.scatter(feature, error, color='blue', s=scale, label='Normalized Mean Absolute Error - NMAE')\n",
    "ax.set_xlabel('Feature')\n",
    "ax.set_ylabel('Error')\n",
    "ax.set_title('Error value in function of the feature')\n",
    "ax.legend()\n",
    "matplotlib.pyplot.show()"
   ]
  },
  {
   "cell_type": "markdown",
   "metadata": {},
   "source": [
    "### 4.Describe your observations and conclusions.\n"
   ]
  },
  {
   "cell_type": "code",
   "execution_count": null,
   "metadata": {},
   "outputs": [],
   "source": []
  }
 ],
 "metadata": {
  "kernelspec": {
   "display_name": "Python 3",
   "language": "python",
   "name": "python3"
  },
  "language_info": {
   "codemirror_mode": {
    "name": "ipython",
    "version": 3
   },
   "file_extension": ".py",
   "mimetype": "text/x-python",
   "name": "python",
   "nbconvert_exporter": "python",
   "pygments_lexer": "ipython3",
   "version": "3.8.5"
  }
 },
 "nbformat": 4,
 "nbformat_minor": 4
}
