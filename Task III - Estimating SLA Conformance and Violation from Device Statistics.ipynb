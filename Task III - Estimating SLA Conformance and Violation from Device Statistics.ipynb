{
 "cells": [
  {
   "cell_type": "markdown",
   "metadata": {},
   "source": [
    "# Task III - Estimating SLA Conformance and Violation from Device Statistics"
   ]
  },
  {
   "cell_type": "markdown",
   "metadata": {},
   "source": [
    "The objective for this task is to build a binary classiﬁer function that estimates whether the VoD service conforms to the given SLA for speciﬁc device statistics X, or whether the service violates the SLA for a speciﬁc value of X.\n",
    "You apply logistic regression to build the classiﬁer. As in the previous task, build a training set and a test set from the trace data, containing 70% of the observations and 30% of the observations, respectively."
   ]
  },
  {
   "cell_type": "markdown",
   "metadata": {},
   "source": [
    "### (1) Model Training - use Logistic Regression to train a classiﬁer C with the training set. Provide the coeﬃcients (Θ0,...,Θ9) of your model C. (Θ0 is the oﬀset.)\n"
   ]
  },
  {
   "cell_type": "code",
   "execution_count": 1,
   "metadata": {},
   "outputs": [],
   "source": [
    "import pandas\n",
    "import numpy\n",
    "import matplotlib\n",
    "import pylab\n",
    "import sklearn.model_selection\n",
    "import sklearn.linear_model\n",
    "import random"
   ]
  },
  {
   "cell_type": "code",
   "execution_count": 16,
   "metadata": {},
   "outputs": [],
   "source": [
    "# import dataset_x and dataset_y\n",
    "data_set_x = pandas.read_csv('X.csv')\n",
    "data_set_y = pandas.read_csv('Y.csv')\n",
    "\n",
    "# join operations similar to relational databases on field 'TimeStamp'\n",
    "data_set = pandas.merge(data_set_x, data_set_y, on='TimeStamp')"
   ]
  },
  {
   "cell_type": "code",
   "execution_count": 17,
   "metadata": {},
   "outputs": [],
   "source": [
    "(data_set_train, data_set_test) = sklearn.model_selection.train_test_split(data_set, test_size=0.3)"
   ]
  },
  {
   "cell_type": "code",
   "execution_count": 19,
   "metadata": {},
   "outputs": [],
   "source": [
    "data_set_train.loc[ data_set_train.DispFrames < 18.00, 'DispFrames'] = -1"
   ]
  },
  {
   "cell_type": "code",
   "execution_count": 20,
   "metadata": {},
   "outputs": [],
   "source": [
    "data_set_train.loc[ data_set_train.DispFrames >= 18.00, 'DispFrames'] = 1"
   ]
  },
  {
   "cell_type": "code",
   "execution_count": 21,
   "metadata": {},
   "outputs": [],
   "source": [
    "data_set_test.loc[ data_set_test.DispFrames < 18.00, 'DispFrames'] = -1"
   ]
  },
  {
   "cell_type": "code",
   "execution_count": 22,
   "metadata": {},
   "outputs": [],
   "source": [
    "data_set_test.loc[ data_set_test.DispFrames >= 18.00, 'DispFrames'] = 1"
   ]
  },
  {
   "cell_type": "code",
   "execution_count": 27,
   "metadata": {},
   "outputs": [
    {
     "name": "stdout",
     "output_type": "stream",
     "text": [
      "The coefficients of classifier is [[-6.88573615e-02 -4.41600202e-02  2.30192653e-03 -1.24388500e-05\n",
      "   3.94246888e-03  3.10770418e-04 -8.69348877e-02 -7.10099340e-02\n",
      "  -7.25927368e-06]]\n"
     ]
    }
   ],
   "source": [
    "x = data_set_train.iloc[:, 1:-1] # all lines, all columns except the last\n",
    "y = data_set_train.iloc[:, -1] # all lines and only last column\n",
    "logistic_regression = sklearn.linear_model.LogisticRegression(max_iter=200)\n",
    "logistic_regression.fit(x, y)\n",
    "print('The coefficients of classifier is', logistic_regression.coef_)"
   ]
  },
  {
   "cell_type": "markdown",
   "metadata": {},
   "source": [
    "### (2) Accuracy of the Classiﬁers C - Compute the classiﬁcation error (ERR) on the test set for C. For this, you ﬁrst compute the confusion matrix, which includes the four numbers True Positives (TP), True Negatives (TN), False Positives (FN), and False Negatives (FN). We deﬁne the classiﬁcation error as ERR = 1− TP+TN m , whereby m is the number of observations in the test set. A true positive is an observation that is correctly classiﬁed by the classiﬁer as conforming to the SLA; a true negative is an observation that is correctly classiﬁed by the classiﬁer as violating the SLA."
   ]
  },
  {
   "cell_type": "code",
   "execution_count": 28,
   "metadata": {},
   "outputs": [],
   "source": [
    "x = data_set_test.iloc[:, 1:-1] # all lines, all columns except the last\n",
    "y = data_set_test.iloc[:, -1] # all lines and only last column"
   ]
  },
  {
   "cell_type": "code",
   "execution_count": 31,
   "metadata": {},
   "outputs": [
    {
     "name": "stdout",
     "output_type": "stream",
     "text": [
      "The classification error(ERR) on the test set is 0.11851851851851847\n"
     ]
    }
   ],
   "source": [
    "y_classification = logistic_regression.predict(x)\n",
    "confusion_matrix = sklearn.metrics.confusion_matrix(y, y_classification)\n",
    "true_negatives = confusion_matrix[0,0]\n",
    "false_negatives = confusion_matrix[1,0]\n",
    "true_positives = confusion_matrix[1,1]\n",
    "false_positives = confusion_matrix[0,1]\n",
    "number_observations = x.shape[0]\n",
    "classification_error = 1 - ( (true_positives + true_negatives) / number_observations )\n",
    "print('The classification error(ERR) on the test set is', classification_error)"
   ]
  },
  {
   "cell_type": "markdown",
   "metadata": {},
   "source": [
    "### (3) As a baseline for C, use a naıve method which relies on Y values only, as follows. For each x ∈ X, the naıve classiﬁer predicts a value True with probability p and False with probability 1−p. p is the fraction of Y values that conform with the SLA. Compute p over the training set and the classiﬁcation error for the naıve classiﬁer over the test set."
   ]
  },
  {
   "cell_type": "code",
   "execution_count": 34,
   "metadata": {},
   "outputs": [],
   "source": [
    "data_set_train_length = data_set_train.shape[0]\n",
    "fraction_conform_sla = data_set_train[ data_set_train['DispFrames'] >= 1.00 ].shape[0]\n",
    "fraction_conform_sla = fraction_conform_sla / data_set_train_length"
   ]
  },
  {
   "cell_type": "code",
   "execution_count": 27,
   "metadata": {},
   "outputs": [],
   "source": [
    "x = data_set_test.iloc[:, :-1] # all lines, all columns except the last\n",
    "y = data_set_test.iloc[:, -1] # all lines and only last column\n",
    "y_classification = [ 1.0 if random.random() < fraction_conform_sla else -1.0 for _ in range(data_set_test.shape[0]) ]"
   ]
  },
  {
   "cell_type": "code",
   "execution_count": 35,
   "metadata": {},
   "outputs": [
    {
     "name": "stdout",
     "output_type": "stream",
     "text": [
      "The classification error(ERR) on the test set is 0.11851851851851847\n"
     ]
    }
   ],
   "source": [
    "confusion_matrix = sklearn.metrics.confusion_matrix(y, y_classification)\n",
    "true_negatives = confusion_matrix[0,0]\n",
    "false_negatives = confusion_matrix[1,0]\n",
    "true_positives = confusion_matrix[1,1]\n",
    "false_positives = confusion_matrix[0,1]\n",
    "number_observations = x.shape[0]\n",
    "classification_error = 1 - ( (true_positives + true_negatives) / number_observations )\n",
    "print('The classification error(ERR) on the test set is', classification_error)"
   ]
  },
  {
   "cell_type": "markdown",
   "metadata": {},
   "source": [
    "### (4) Build a new classiﬁer by extending extend the linear regression function developed in Task II with a check on the output, i.e., the Video Frame Rate. If the frame rate for a given X is above the SLA threshold, then the Y label of the classiﬁer is set to conformance, otherwise to violation. Compute the new classiﬁer over the training set and the classiﬁcation error for this new classiﬁer over the test set."
   ]
  },
  {
   "cell_type": "code",
   "execution_count": 43,
   "metadata": {},
   "outputs": [],
   "source": [
    "class LinearRegressionExtend(object):\n",
    "    def __init__(self, linear_regression):\n",
    "        self.__linear_regression = linear_regression\n",
    "    \n",
    "    def fit(self, x, y):\n",
    "        self.__linear_regression.fit(x, y)\n",
    "    \n",
    "    def predict(self, x):\n",
    "        y = self.__linear_regression.predict(x)\n",
    "        y = [ 1.0 if value >= 18.00 else -1.0 for value in y ]\n",
    "        return y"
   ]
  },
  {
   "cell_type": "code",
   "execution_count": 36,
   "metadata": {},
   "outputs": [],
   "source": [
    "# import dataset_x and dataset_y\n",
    "data_set_x = pandas.read_csv('X.csv')\n",
    "data_set_y = pandas.read_csv('Y.csv')\n",
    "\n",
    "# join operations similar to relational databases on field 'TimeStamp'\n",
    "data_set = pandas.merge(data_set_x, data_set_y, on='TimeStamp')"
   ]
  },
  {
   "cell_type": "code",
   "execution_count": 39,
   "metadata": {},
   "outputs": [],
   "source": [
    "(data_set_train, data_set_test) = sklearn.model_selection.train_test_split(data_set, test_size=0.3)"
   ]
  },
  {
   "cell_type": "code",
   "execution_count": 40,
   "metadata": {},
   "outputs": [],
   "source": [
    "data_set_test.loc[ data_set_test.DispFrames < 18.00, 'DispFrames'] = -1"
   ]
  },
  {
   "cell_type": "code",
   "execution_count": 41,
   "metadata": {},
   "outputs": [],
   "source": [
    "data_set_test.loc[ data_set_test.DispFrames >= 18.00, 'DispFrames'] = 1"
   ]
  },
  {
   "cell_type": "code",
   "execution_count": 44,
   "metadata": {},
   "outputs": [],
   "source": [
    "linear_regressor = LinearRegressionExtend(sklearn.linear_model.LinearRegression())\n",
    "x = data_set_train.iloc[:, 1:-1] # all lines, all columns except the last\n",
    "y = data_set_train.iloc[:, -1] # all lines and only last column\n",
    "linear_regressor.fit(x, y)"
   ]
  },
  {
   "cell_type": "code",
   "execution_count": 45,
   "metadata": {},
   "outputs": [],
   "source": [
    "x = data_set_test.iloc[:, 1:-1] # all lines, all columns except the last\n",
    "y = data_set_test.iloc[:, -1] # all lines and only last column\n",
    "y_classification = linear_regressor.predict(x)"
   ]
  },
  {
   "cell_type": "code",
   "execution_count": 46,
   "metadata": {},
   "outputs": [
    {
     "name": "stdout",
     "output_type": "stream",
     "text": [
      "The classification error(ERR) for the linear regression extend is 0.12314814814814812\n"
     ]
    }
   ],
   "source": [
    "confusion_matrix = sklearn.metrics.confusion_matrix(y, y_classification)\n",
    "true_negatives = confusion_matrix[0,0]\n",
    "false_negatives = confusion_matrix[1,0]\n",
    "true_positives = confusion_matrix[1,1]\n",
    "false_negatives = confusion_matrix[0,1]\n",
    "number_observations = x.shape[0]\n",
    "classification_error = 1 - ( (true_positives + true_negatives) / number_observations )\n",
    "\n",
    "print('The classification error(ERR) for the linear regression extend is', classification_error)"
   ]
  },
  {
   "cell_type": "markdown",
   "metadata": {},
   "source": [
    "### (5) Formulate your observations and conclusions based on the above work."
   ]
  },
  {
   "cell_type": "code",
   "execution_count": null,
   "metadata": {},
   "outputs": [],
   "source": []
  }
 ],
 "metadata": {
  "kernelspec": {
   "display_name": "Python 3",
   "language": "python",
   "name": "python3"
  },
  "language_info": {
   "codemirror_mode": {
    "name": "ipython",
    "version": 3
   },
   "file_extension": ".py",
   "mimetype": "text/x-python",
   "name": "python",
   "nbconvert_exporter": "python",
   "pygments_lexer": "ipython3",
   "version": "3.8.3"
  }
 },
 "nbformat": 4,
 "nbformat_minor": 4
}
